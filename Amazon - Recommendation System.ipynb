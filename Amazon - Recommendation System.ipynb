{
 "cells": [
  {
   "cell_type": "markdown",
   "id": "f71027ce-b1b4-4abd-9a92-0c3ebbf4cdd7",
   "metadata": {},
   "source": [
    "# __Amazon - Recommendation System__\n",
    "\n",
    "Dataset From: http://deepyeti.ucsd.edu/jianmo/amazon/index.html"
   ]
  },
  {
   "cell_type": "markdown",
   "id": "2d4196f0-7379-4d8d-b26b-f216aac6894f",
   "metadata": {},
   "source": [
    "## __Agenda:__\n",
    "\n",
    "1. Data Processing & EDA\n",
    "2. Recommendation System Model: Popularity Based\n",
    "3. Recommendation System Model: Collaborative Filtering (Memory Based - Item Based)\n",
    "4. Recommendation System Model: Collaborative Filtering (Model Based)"
   ]
  },
  {
   "cell_type": "markdown",
   "id": "46e64785-9b50-42b0-9eb3-1944bdf27cb2",
   "metadata": {},
   "source": [
    "## __1. Data Processing & EDA__"
   ]
  },
  {
   "cell_type": "code",
   "execution_count": 1,
   "id": "82d53c1f-3dc1-4fbb-b6c6-2b03bd76cc80",
   "metadata": {},
   "outputs": [],
   "source": [
    "# Import libraries\n",
    "\n",
    "import numpy as np\n",
    "import pandas as pd\n",
    "import matplotlib.pyplot as plt\n",
    "import seaborn as sns\n",
    "\n",
    "from sklearn.model_selection import train_test_split\n",
    "from sklearn.neighbors import NearestNeighbors"
   ]
  },
  {
   "cell_type": "code",
   "execution_count": 2,
   "id": "dcf5c5e9-0016-44bc-a73e-3994b8422d03",
   "metadata": {},
   "outputs": [
    {
     "data": {
      "text/html": [
       "<div>\n",
       "<style scoped>\n",
       "    .dataframe tbody tr th:only-of-type {\n",
       "        vertical-align: middle;\n",
       "    }\n",
       "\n",
       "    .dataframe tbody tr th {\n",
       "        vertical-align: top;\n",
       "    }\n",
       "\n",
       "    .dataframe thead th {\n",
       "        text-align: right;\n",
       "    }\n",
       "</style>\n",
       "<table border=\"1\" class=\"dataframe\">\n",
       "  <thead>\n",
       "    <tr style=\"text-align: right;\">\n",
       "      <th></th>\n",
       "      <th>overall</th>\n",
       "      <th>verified</th>\n",
       "      <th>reviewTime</th>\n",
       "      <th>reviewerID</th>\n",
       "      <th>asin</th>\n",
       "      <th>reviewerName</th>\n",
       "      <th>reviewText</th>\n",
       "      <th>summary</th>\n",
       "      <th>unixReviewTime</th>\n",
       "      <th>vote</th>\n",
       "      <th>style</th>\n",
       "      <th>image</th>\n",
       "    </tr>\n",
       "  </thead>\n",
       "  <tbody>\n",
       "    <tr>\n",
       "      <th>0</th>\n",
       "      <td>1</td>\n",
       "      <td>True</td>\n",
       "      <td>02 19, 2015</td>\n",
       "      <td>A1V6B6TNIC10QE</td>\n",
       "      <td>0143026860</td>\n",
       "      <td>theodore j bigham</td>\n",
       "      <td>great</td>\n",
       "      <td>One Star</td>\n",
       "      <td>1424304000</td>\n",
       "      <td>NaN</td>\n",
       "      <td>NaN</td>\n",
       "      <td>NaN</td>\n",
       "    </tr>\n",
       "    <tr>\n",
       "      <th>1</th>\n",
       "      <td>4</td>\n",
       "      <td>True</td>\n",
       "      <td>12 18, 2014</td>\n",
       "      <td>A2F5GHSXFQ0W6J</td>\n",
       "      <td>0143026860</td>\n",
       "      <td>Mary K. Byke</td>\n",
       "      <td>My  husband wanted to reading about the Negro ...</td>\n",
       "      <td>... to reading about the Negro Baseball and th...</td>\n",
       "      <td>1418860800</td>\n",
       "      <td>NaN</td>\n",
       "      <td>NaN</td>\n",
       "      <td>NaN</td>\n",
       "    </tr>\n",
       "    <tr>\n",
       "      <th>2</th>\n",
       "      <td>4</td>\n",
       "      <td>True</td>\n",
       "      <td>08 10, 2014</td>\n",
       "      <td>A1572GUYS7DGSR</td>\n",
       "      <td>0143026860</td>\n",
       "      <td>David G</td>\n",
       "      <td>This book was very informative, covering all a...</td>\n",
       "      <td>Worth the Read</td>\n",
       "      <td>1407628800</td>\n",
       "      <td>NaN</td>\n",
       "      <td>NaN</td>\n",
       "      <td>NaN</td>\n",
       "    </tr>\n",
       "    <tr>\n",
       "      <th>3</th>\n",
       "      <td>5</td>\n",
       "      <td>True</td>\n",
       "      <td>03 11, 2013</td>\n",
       "      <td>A1PSGLFK1NSVO</td>\n",
       "      <td>0143026860</td>\n",
       "      <td>TamB</td>\n",
       "      <td>I am already a baseball fan and knew a bit abo...</td>\n",
       "      <td>Good Read</td>\n",
       "      <td>1362960000</td>\n",
       "      <td>NaN</td>\n",
       "      <td>NaN</td>\n",
       "      <td>NaN</td>\n",
       "    </tr>\n",
       "    <tr>\n",
       "      <th>4</th>\n",
       "      <td>5</td>\n",
       "      <td>True</td>\n",
       "      <td>12 25, 2011</td>\n",
       "      <td>A6IKXKZMTKGSC</td>\n",
       "      <td>0143026860</td>\n",
       "      <td>shoecanary</td>\n",
       "      <td>This was a good story of the Black leagues. I ...</td>\n",
       "      <td>More than facts, a good story read!</td>\n",
       "      <td>1324771200</td>\n",
       "      <td>5</td>\n",
       "      <td>NaN</td>\n",
       "      <td>NaN</td>\n",
       "    </tr>\n",
       "  </tbody>\n",
       "</table>\n",
       "</div>"
      ],
      "text/plain": [
       "   overall  verified   reviewTime      reviewerID        asin  \\\n",
       "0        1      True  02 19, 2015  A1V6B6TNIC10QE  0143026860   \n",
       "1        4      True  12 18, 2014  A2F5GHSXFQ0W6J  0143026860   \n",
       "2        4      True  08 10, 2014  A1572GUYS7DGSR  0143026860   \n",
       "3        5      True  03 11, 2013   A1PSGLFK1NSVO  0143026860   \n",
       "4        5      True  12 25, 2011   A6IKXKZMTKGSC  0143026860   \n",
       "\n",
       "        reviewerName                                         reviewText  \\\n",
       "0  theodore j bigham                                              great   \n",
       "1       Mary K. Byke  My  husband wanted to reading about the Negro ...   \n",
       "2            David G  This book was very informative, covering all a...   \n",
       "3               TamB  I am already a baseball fan and knew a bit abo...   \n",
       "4         shoecanary  This was a good story of the Black leagues. I ...   \n",
       "\n",
       "                                             summary  unixReviewTime vote  \\\n",
       "0                                           One Star      1424304000  NaN   \n",
       "1  ... to reading about the Negro Baseball and th...      1418860800  NaN   \n",
       "2                                     Worth the Read      1407628800  NaN   \n",
       "3                                          Good Read      1362960000  NaN   \n",
       "4                More than facts, a good story read!      1324771200    5   \n",
       "\n",
       "  style image  \n",
       "0   NaN   NaN  \n",
       "1   NaN   NaN  \n",
       "2   NaN   NaN  \n",
       "3   NaN   NaN  \n",
       "4   NaN   NaN  "
      ]
     },
     "execution_count": 2,
     "metadata": {},
     "output_type": "execute_result"
    }
   ],
   "source": [
    "# Load the all beauty main dataset\n",
    "\n",
    "all_beauty_data = pd.read_json('All_Beauty.json', lines=True)\n",
    "all_beauty_data.head()"
   ]
  },
  {
   "cell_type": "code",
   "execution_count": 3,
   "id": "cce450e8-4305-4ce7-aa06-5bc0c013f348",
   "metadata": {},
   "outputs": [
    {
     "data": {
      "text/html": [
       "<div>\n",
       "<style scoped>\n",
       "    .dataframe tbody tr th:only-of-type {\n",
       "        vertical-align: middle;\n",
       "    }\n",
       "\n",
       "    .dataframe tbody tr th {\n",
       "        vertical-align: top;\n",
       "    }\n",
       "\n",
       "    .dataframe thead th {\n",
       "        text-align: right;\n",
       "    }\n",
       "</style>\n",
       "<table border=\"1\" class=\"dataframe\">\n",
       "  <thead>\n",
       "    <tr style=\"text-align: right;\">\n",
       "      <th></th>\n",
       "      <th>category</th>\n",
       "      <th>tech1</th>\n",
       "      <th>description</th>\n",
       "      <th>fit</th>\n",
       "      <th>title</th>\n",
       "      <th>also_buy</th>\n",
       "      <th>tech2</th>\n",
       "      <th>brand</th>\n",
       "      <th>feature</th>\n",
       "      <th>rank</th>\n",
       "      <th>also_view</th>\n",
       "      <th>details</th>\n",
       "      <th>main_cat</th>\n",
       "      <th>similar_item</th>\n",
       "      <th>date</th>\n",
       "      <th>price</th>\n",
       "      <th>asin</th>\n",
       "      <th>imageURL</th>\n",
       "      <th>imageURLHighRes</th>\n",
       "    </tr>\n",
       "  </thead>\n",
       "  <tbody>\n",
       "    <tr>\n",
       "      <th>0</th>\n",
       "      <td>[]</td>\n",
       "      <td></td>\n",
       "      <td>[Loud 'N Clear Personal Sound Amplifier allows...</td>\n",
       "      <td></td>\n",
       "      <td>Loud 'N Clear&amp;trade; Personal Sound Amplifier</td>\n",
       "      <td>[]</td>\n",
       "      <td></td>\n",
       "      <td>idea village</td>\n",
       "      <td>[]</td>\n",
       "      <td>2,938,573 in Beauty &amp; Personal Care (</td>\n",
       "      <td>[]</td>\n",
       "      <td>{'ASIN: ': '6546546450'}</td>\n",
       "      <td>All Beauty</td>\n",
       "      <td></td>\n",
       "      <td></td>\n",
       "      <td></td>\n",
       "      <td>6546546450</td>\n",
       "      <td>[]</td>\n",
       "      <td>[]</td>\n",
       "    </tr>\n",
       "  </tbody>\n",
       "</table>\n",
       "</div>"
      ],
      "text/plain": [
       "  category tech1                                        description fit  \\\n",
       "0       []        [Loud 'N Clear Personal Sound Amplifier allows...       \n",
       "\n",
       "                                           title also_buy tech2         brand  \\\n",
       "0  Loud 'N Clear&trade; Personal Sound Amplifier       []        idea village   \n",
       "\n",
       "  feature                                   rank also_view  \\\n",
       "0      []  2,938,573 in Beauty & Personal Care (        []   \n",
       "\n",
       "                    details    main_cat similar_item date price        asin  \\\n",
       "0  {'ASIN: ': '6546546450'}  All Beauty                          6546546450   \n",
       "\n",
       "  imageURL imageURLHighRes  \n",
       "0       []              []  "
      ]
     },
     "execution_count": 3,
     "metadata": {},
     "output_type": "execute_result"
    }
   ],
   "source": [
    "# Load the meta data dataset\n",
    "\n",
    "all_beauty_meta_data = pd.read_json('meta_All_Beauty.json', lines=True)\n",
    "all_beauty_meta_data.head(1)"
   ]
  },
  {
   "cell_type": "markdown",
   "id": "1274ed1c-393b-4a15-8290-4e9358e7e37c",
   "metadata": {},
   "source": [
    "We can see that the important columns, \"asin\" (product ids), \"reviewerID\" (user id) and \"overall\" (rating of the product) are available for all rows."
   ]
  },
  {
   "cell_type": "code",
   "execution_count": 4,
   "id": "b1c9562f-fbbd-465e-b090-be646d323786",
   "metadata": {},
   "outputs": [
    {
     "name": "stdout",
     "output_type": "stream",
     "text": [
      "<class 'pandas.core.frame.DataFrame'>\n",
      "RangeIndex: 371345 entries, 0 to 371344\n",
      "Data columns (total 12 columns):\n",
      " #   Column          Non-Null Count   Dtype \n",
      "---  ------          --------------   ----- \n",
      " 0   overall         371345 non-null  int64 \n",
      " 1   verified        371345 non-null  bool  \n",
      " 2   reviewTime      371345 non-null  object\n",
      " 3   reviewerID      371345 non-null  object\n",
      " 4   asin            371345 non-null  object\n",
      " 5   reviewerName    371307 non-null  object\n",
      " 6   reviewText      370946 non-null  object\n",
      " 7   summary         371139 non-null  object\n",
      " 8   unixReviewTime  371345 non-null  int64 \n",
      " 9   vote            51899 non-null   object\n",
      " 10  style           125958 non-null  object\n",
      " 11  image           8391 non-null    object\n",
      "dtypes: bool(1), int64(2), object(9)\n",
      "memory usage: 31.5+ MB\n"
     ]
    }
   ],
   "source": [
    "# Quick summary of the dataset\n",
    "\n",
    "all_beauty_data.info()"
   ]
  },
  {
   "cell_type": "markdown",
   "id": "c1aba80d-1299-494e-845a-67f691c70803",
   "metadata": {},
   "source": [
    "From the histogram, we can see that the distribution of user ratings are negatively skewed, with a median of 5.0."
   ]
  },
  {
   "cell_type": "code",
   "execution_count": 5,
   "id": "ef0cd25d-b668-4702-a624-0c589c552b98",
   "metadata": {},
   "outputs": [
    {
     "data": {
      "text/plain": [
       "count    371345.000000\n",
       "mean          4.112093\n",
       "std           1.362099\n",
       "min           1.000000\n",
       "25%           4.000000\n",
       "50%           5.000000\n",
       "75%           5.000000\n",
       "max           5.000000\n",
       "Name: overall, dtype: float64"
      ]
     },
     "execution_count": 5,
     "metadata": {},
     "output_type": "execute_result"
    }
   ],
   "source": [
    "all_beauty_data['overall'].describe()"
   ]
  },
  {
   "cell_type": "code",
   "execution_count": 6,
   "id": "1dd752df-c23f-4304-a294-815dae3b34b3",
   "metadata": {},
   "outputs": [
    {
     "data": {
      "image/png": "[encoded data removed]",
      "text/plain": [
       "<Figure size 576x432 with 1 Axes>"
      ]
     },
     "metadata": {
      "needs_background": "light"
     },
     "output_type": "display_data"
    }
   ],
   "source": [
    "# Understand the distribution of user ratings\n",
    "\n",
    "plt.figure(figsize=[8,6])\n",
    "\n",
    "sns.histplot(x='overall', discrete=True, data=all_beauty_data)\n",
    "plt.xlabel('Amazon User Ratings')\n",
    "plt.ylabel('Number of Reviews')\n",
    "plt.title('Number of Reviews for each User Rating - Amazon All Beauty Product Category')\n",
    "\n",
    "plt.tight_layout()\n",
    "plt.show()"
   ]
  },
  {
   "cell_type": "markdown",
   "id": "d65f2fc2-fa5e-4e9c-8e44-a69f3ada560a",
   "metadata": {},
   "source": [
    "For Amazon's All Beauty dataset, we can see that:\n",
    "- Total Number of Ratings: 371,345.\n",
    "- Total Number of Unique Users: 324,038.\n",
    "- Total Number of Unique Products: 32,586."
   ]
  },
  {
   "cell_type": "code",
   "execution_count": 7,
   "id": "54231337-ee05-408f-8d8b-f7a3ce575dc5",
   "metadata": {},
   "outputs": [
    {
     "name": "stdout",
     "output_type": "stream",
     "text": [
      "Total Ratings: 371345\n",
      "Total Unique Users: 324038\n",
      "Total Unique Products: 32586\n"
     ]
    }
   ],
   "source": [
    "# Find out number of uniques users and products\n",
    "\n",
    "print(f\"Total Ratings: {all_beauty_data['overall'].count()}\\nTotal Unique Users: {len(np.unique(all_beauty_data['reviewerID']))}\\nTotal Unique Products: {len(np.unique(all_beauty_data['asin']))}\")"
   ]
  },
  {
   "cell_type": "markdown",
   "id": "3ed029d7-d08f-4e58-884d-9ea724379de9",
   "metadata": {},
   "source": [
    "Additionally, we can see that:\n",
    "- Median number of reviews per user is 1.\n",
    "- Median number of reviews per product is 2."
   ]
  },
  {
   "cell_type": "code",
   "execution_count": 8,
   "id": "93ce00ad-1928-4bcc-b24a-b29c3f6719f3",
   "metadata": {},
   "outputs": [
    {
     "data": {
      "text/plain": [
       "reviewerID\n",
       "A2GJX2KCUSR0EI    27\n",
       "A1KSC91G9AIY2Z    23\n",
       "A22CW0ZHY3NJH8    21\n",
       "A1EGCED01USBA9    21\n",
       "AENH50GW3OKDA     20\n",
       "A1UQBFCERIP7VJ    18\n",
       "A11WQTPV352LGH    14\n",
       "A1XQ0F01CF84Y3    14\n",
       "A3NFZN1GS1RKR9    13\n",
       "A1VUXNNB1NJ2PT    13\n",
       "Name: overall, dtype: int64"
      ]
     },
     "execution_count": 8,
     "metadata": {},
     "output_type": "execute_result"
    }
   ],
   "source": [
    "# Understand how many reviews each user performed\n",
    "\n",
    "no_reviews_user = all_beauty_data.groupby(by='reviewerID')['overall'].count().sort_values(ascending=False)\n",
    "no_reviews_user.head(10)"
   ]
  },
  {
   "cell_type": "code",
   "execution_count": 9,
   "id": "7aa3f2df-490f-4e0b-a526-265ef579617b",
   "metadata": {},
   "outputs": [
    {
     "data": {
      "text/plain": [
       "count    324038.000000\n",
       "mean          1.145992\n",
       "std           0.506462\n",
       "min           1.000000\n",
       "25%           1.000000\n",
       "50%           1.000000\n",
       "75%           1.000000\n",
       "max          27.000000\n",
       "Name: overall, dtype: float64"
      ]
     },
     "execution_count": 9,
     "metadata": {},
     "output_type": "execute_result"
    }
   ],
   "source": [
    "no_reviews_user.describe()"
   ]
  },
  {
   "cell_type": "code",
   "execution_count": 10,
   "id": "4c9d5687-0ac1-441b-998a-070a3a59df32",
   "metadata": {},
   "outputs": [
    {
     "data": {
      "text/plain": [
       "asin\n",
       "B000FOI48G    8672\n",
       "B000GLRREU    8341\n",
       "1620213982    4792\n",
       "B001QY8QXM    4544\n",
       "B01DKQAXC0    4246\n",
       "B00W259T7G    2959\n",
       "B006IB5T4W    2790\n",
       "B00005JS5C    2249\n",
       "B0012Y0ZG2    2234\n",
       "B000WYJTZG    2190\n",
       "Name: overall, dtype: int64"
      ]
     },
     "execution_count": 10,
     "metadata": {},
     "output_type": "execute_result"
    }
   ],
   "source": [
    "# Understand how many reviews each product received\n",
    "\n",
    "no_reviews_product = all_beauty_data.groupby(by='asin')['overall'].count().sort_values(ascending=False)\n",
    "no_reviews_product.head(10)"
   ]
  },
  {
   "cell_type": "code",
   "execution_count": 11,
   "id": "1b8d0978-46f5-45b9-8aed-c29a2b97d975",
   "metadata": {},
   "outputs": [
    {
     "data": {
      "text/plain": [
       "count    32586.000000\n",
       "mean        11.395845\n",
       "std         97.384461\n",
       "min          1.000000\n",
       "25%          1.000000\n",
       "50%          2.000000\n",
       "75%          5.000000\n",
       "max       8672.000000\n",
       "Name: overall, dtype: float64"
      ]
     },
     "execution_count": 11,
     "metadata": {},
     "output_type": "execute_result"
    }
   ],
   "source": [
    "no_reviews_product.describe()"
   ]
  },
  {
   "cell_type": "markdown",
   "id": "ffb1d22d-e7b3-4a07-be09-c86eaa30c244",
   "metadata": {},
   "source": [
    "## __2. Recommendation System Model: Popularity Based__"
   ]
  },
  {
   "cell_type": "markdown",
   "id": "74ec6f4c-251a-4af7-8e94-721a3ff675cd",
   "metadata": {},
   "source": [
    "As the name suggests, popularity based recommendation system works based on what's trending.\n",
    "\n",
    "The challenge with this method is that it doesn't take into account personalizaton or the user's preferences."
   ]
  },
  {
   "cell_type": "code",
   "execution_count": 12,
   "id": "5ced33f8-23bf-4271-adc4-0d9565284643",
   "metadata": {},
   "outputs": [
    {
     "data": {
      "text/html": [
       "<div>\n",
       "<style scoped>\n",
       "    .dataframe tbody tr th:only-of-type {\n",
       "        vertical-align: middle;\n",
       "    }\n",
       "\n",
       "    .dataframe tbody tr th {\n",
       "        vertical-align: top;\n",
       "    }\n",
       "\n",
       "    .dataframe thead th {\n",
       "        text-align: right;\n",
       "    }\n",
       "</style>\n",
       "<table border=\"1\" class=\"dataframe\">\n",
       "  <thead>\n",
       "    <tr style=\"text-align: right;\">\n",
       "      <th></th>\n",
       "      <th>overall</th>\n",
       "      <th>verified</th>\n",
       "      <th>reviewTime</th>\n",
       "      <th>reviewerID</th>\n",
       "      <th>asin</th>\n",
       "      <th>reviewerName</th>\n",
       "      <th>reviewText</th>\n",
       "      <th>summary</th>\n",
       "      <th>unixReviewTime</th>\n",
       "      <th>vote</th>\n",
       "      <th>style</th>\n",
       "      <th>image</th>\n",
       "    </tr>\n",
       "  </thead>\n",
       "  <tbody>\n",
       "    <tr>\n",
       "      <th>23</th>\n",
       "      <td>5</td>\n",
       "      <td>False</td>\n",
       "      <td>05 16, 2012</td>\n",
       "      <td>A1DN3KBTCYBH6K</td>\n",
       "      <td>1620213982</td>\n",
       "      <td>Amazon Customer</td>\n",
       "      <td>The product was cute and easy to use.  It arri...</td>\n",
       "      <td>cute!</td>\n",
       "      <td>1337126400</td>\n",
       "      <td>NaN</td>\n",
       "      <td>{'Size:': ' 44 oz'}</td>\n",
       "      <td>NaN</td>\n",
       "    </tr>\n",
       "    <tr>\n",
       "      <th>24</th>\n",
       "      <td>5</td>\n",
       "      <td>True</td>\n",
       "      <td>02 26, 2012</td>\n",
       "      <td>A1TA38LWZO0NZS</td>\n",
       "      <td>1620213982</td>\n",
       "      <td>deucez24</td>\n",
       "      <td>Fun had by all.  Game night just got better.  ...</td>\n",
       "      <td>Fun twist to the old favorite, Bingo.</td>\n",
       "      <td>1330214400</td>\n",
       "      <td>NaN</td>\n",
       "      <td>{'Size:': ' 300'}</td>\n",
       "      <td>NaN</td>\n",
       "    </tr>\n",
       "    <tr>\n",
       "      <th>25</th>\n",
       "      <td>5</td>\n",
       "      <td>True</td>\n",
       "      <td>01 16, 2012</td>\n",
       "      <td>A2OZBC5SG575G1</td>\n",
       "      <td>1620213982</td>\n",
       "      <td>Jean A.</td>\n",
       "      <td>You will love this card.  I'm going to use for...</td>\n",
       "      <td>ADORABLE Cards!</td>\n",
       "      <td>1326672000</td>\n",
       "      <td>NaN</td>\n",
       "      <td>{'Size:': ' 3 pack'}</td>\n",
       "      <td>NaN</td>\n",
       "    </tr>\n",
       "    <tr>\n",
       "      <th>26</th>\n",
       "      <td>5</td>\n",
       "      <td>True</td>\n",
       "      <td>11 24, 2011</td>\n",
       "      <td>A2YKYIA11M9XTX</td>\n",
       "      <td>1620213982</td>\n",
       "      <td>Booklady</td>\n",
       "      <td>Robert Sabuda's cards are always magical and t...</td>\n",
       "      <td>Send a smile to someone you love!</td>\n",
       "      <td>1322092800</td>\n",
       "      <td>5</td>\n",
       "      <td>{'Size:': ' 3 pack'}</td>\n",
       "      <td>NaN</td>\n",
       "    </tr>\n",
       "    <tr>\n",
       "      <th>27</th>\n",
       "      <td>5</td>\n",
       "      <td>True</td>\n",
       "      <td>10 29, 2011</td>\n",
       "      <td>A32MUH70JIV7TS</td>\n",
       "      <td>1620213982</td>\n",
       "      <td>sallyftw</td>\n",
       "      <td>I thought the previous reviewers were exaggera...</td>\n",
       "      <td>HUUUUGE!</td>\n",
       "      <td>1319846400</td>\n",
       "      <td>NaN</td>\n",
       "      <td>{'Size:': ' 3'}</td>\n",
       "      <td>NaN</td>\n",
       "    </tr>\n",
       "  </tbody>\n",
       "</table>\n",
       "</div>"
      ],
      "text/plain": [
       "    overall  verified   reviewTime      reviewerID        asin  \\\n",
       "23        5     False  05 16, 2012  A1DN3KBTCYBH6K  1620213982   \n",
       "24        5      True  02 26, 2012  A1TA38LWZO0NZS  1620213982   \n",
       "25        5      True  01 16, 2012  A2OZBC5SG575G1  1620213982   \n",
       "26        5      True  11 24, 2011  A2YKYIA11M9XTX  1620213982   \n",
       "27        5      True  10 29, 2011  A32MUH70JIV7TS  1620213982   \n",
       "\n",
       "       reviewerName                                         reviewText  \\\n",
       "23  Amazon Customer  The product was cute and easy to use.  It arri...   \n",
       "24         deucez24  Fun had by all.  Game night just got better.  ...   \n",
       "25          Jean A.  You will love this card.  I'm going to use for...   \n",
       "26         Booklady  Robert Sabuda's cards are always magical and t...   \n",
       "27         sallyftw  I thought the previous reviewers were exaggera...   \n",
       "\n",
       "                                  summary  unixReviewTime vote  \\\n",
       "23                                  cute!      1337126400  NaN   \n",
       "24  Fun twist to the old favorite, Bingo.      1330214400  NaN   \n",
       "25                        ADORABLE Cards!      1326672000  NaN   \n",
       "26      Send a smile to someone you love!      1322092800    5   \n",
       "27                               HUUUUGE!      1319846400  NaN   \n",
       "\n",
       "                   style image  \n",
       "23   {'Size:': ' 44 oz'}   NaN  \n",
       "24     {'Size:': ' 300'}   NaN  \n",
       "25  {'Size:': ' 3 pack'}   NaN  \n",
       "26  {'Size:': ' 3 pack'}   NaN  \n",
       "27       {'Size:': ' 3'}   NaN  "
      ]
     },
     "execution_count": 12,
     "metadata": {},
     "output_type": "execute_result"
    }
   ],
   "source": [
    "top_beauty_products = all_beauty_data.groupby('asin').filter(lambda x: x['overall'].count() >= 50)\n",
    "top_beauty_products.head()"
   ]
  },
  {
   "cell_type": "code",
   "execution_count": 13,
   "id": "eb55cbfd-f0d0-4f0c-aa3f-4d6d631daddf",
   "metadata": {},
   "outputs": [
    {
     "data": {
      "text/plain": [
       "asin\n",
       "B000FOI48G    8672\n",
       "B000GLRREU    8341\n",
       "1620213982    4792\n",
       "B001QY8QXM    4544\n",
       "B01DKQAXC0    4246\n",
       "              ... \n",
       "B01BYNTXXQ      50\n",
       "B000Q4AIHU      50\n",
       "B000NPVD7Q      50\n",
       "B01DKI8S1Q      50\n",
       "B00028ORTK      50\n",
       "Name: overall, Length: 1149, dtype: int64"
      ]
     },
     "execution_count": 13,
     "metadata": {},
     "output_type": "execute_result"
    }
   ],
   "source": [
    "# Similar to what we saw earlier, this is the list of products that have at least 50 review ratings\n",
    "\n",
    "top_no_reviews_product =  top_beauty_products.groupby('asin')['overall'].count().sort_values(ascending=False)\n",
    "top_no_reviews_product"
   ]
  },
  {
   "cell_type": "markdown",
   "id": "3f1b0779-ae56-4994-bbce-3490b4703d8d",
   "metadata": {},
   "source": [
    "We can clearly see there's a smaller proportion of products that receive a ton of reviews followed by a long tail of products. In other words, this \"short head\" of products are the truly popular ones."
   ]
  },
  {
   "cell_type": "code",
   "execution_count": 14,
   "id": "199f8a43-a393-410b-a0c3-f2e4496ddd68",
   "metadata": {},
   "outputs": [
    {
     "data": {
      "image/png": "[encoded data removed]",
      "text/plain": [
       "<Figure size 720x432 with 1 Axes>"
      ]
     },
     "metadata": {
      "needs_background": "light"
     },
     "output_type": "display_data"
    }
   ],
   "source": [
    "plt.figure(figsize=[10,6])\n",
    "\n",
    "sns.lineplot(x=top_no_reviews_product.index, y=top_no_reviews_product.values)\n",
    "plt.tick_params(\n",
    "    axis='x',\n",
    "    which='both',\n",
    "    bottom=False,\n",
    "    top=False,\n",
    "    labelbottom=False\n",
    ") # Used to remove xticks and xtick labels\n",
    "plt.xlabel('All Beauty Product with at Least 50 Reviews')\n",
    "plt.ylabel('Number of Reviews per Product')\n",
    "plt.title('Number of Reviews per Product - Amazon All Beauty Products')\n",
    "\n",
    "plt.tight_layout()\n",
    "plt.show()"
   ]
  },
  {
   "cell_type": "code",
   "execution_count": 15,
   "id": "e406222f-dd54-457b-b512-01e865e550f5",
   "metadata": {},
   "outputs": [
    {
     "data": {
      "text/html": [
       "<div>\n",
       "<style scoped>\n",
       "    .dataframe tbody tr th:only-of-type {\n",
       "        vertical-align: middle;\n",
       "    }\n",
       "\n",
       "    .dataframe tbody tr th {\n",
       "        vertical-align: top;\n",
       "    }\n",
       "\n",
       "    .dataframe thead th {\n",
       "        text-align: right;\n",
       "    }\n",
       "</style>\n",
       "<table border=\"1\" class=\"dataframe\">\n",
       "  <thead>\n",
       "    <tr style=\"text-align: right;\">\n",
       "      <th></th>\n",
       "      <th>review_count</th>\n",
       "      <th>mean_review_score</th>\n",
       "    </tr>\n",
       "    <tr>\n",
       "      <th>asin</th>\n",
       "      <th></th>\n",
       "      <th></th>\n",
       "    </tr>\n",
       "  </thead>\n",
       "  <tbody>\n",
       "    <tr>\n",
       "      <th>B000FOI48G</th>\n",
       "      <td>8672</td>\n",
       "      <td>4.393450</td>\n",
       "    </tr>\n",
       "    <tr>\n",
       "      <th>B000GLRREU</th>\n",
       "      <td>8341</td>\n",
       "      <td>4.405107</td>\n",
       "    </tr>\n",
       "    <tr>\n",
       "      <th>1620213982</th>\n",
       "      <td>4792</td>\n",
       "      <td>4.798414</td>\n",
       "    </tr>\n",
       "    <tr>\n",
       "      <th>B001QY8QXM</th>\n",
       "      <td>4544</td>\n",
       "      <td>4.556118</td>\n",
       "    </tr>\n",
       "    <tr>\n",
       "      <th>B01DKQAXC0</th>\n",
       "      <td>4246</td>\n",
       "      <td>4.209138</td>\n",
       "    </tr>\n",
       "  </tbody>\n",
       "</table>\n",
       "</div>"
      ],
      "text/plain": [
       "            review_count  mean_review_score\n",
       "asin                                       \n",
       "B000FOI48G          8672           4.393450\n",
       "B000GLRREU          8341           4.405107\n",
       "1620213982          4792           4.798414\n",
       "B001QY8QXM          4544           4.556118\n",
       "B01DKQAXC0          4246           4.209138"
      ]
     },
     "execution_count": 15,
     "metadata": {},
     "output_type": "execute_result"
    }
   ],
   "source": [
    "top_beauty_products_review_count_score = top_beauty_products.groupby('asin')['overall'] \\\n",
    "    .agg(('count','mean')) \\\n",
    "    .rename(columns={'count': 'review_count', 'mean': 'mean_review_score'}) \\\n",
    "    .sort_values(by='review_count', ascending=False)\n",
    "\n",
    "top_beauty_products_review_count_score.head()"
   ]
  },
  {
   "cell_type": "code",
   "execution_count": 16,
   "id": "a9a72508-5a55-4006-83f8-555df37ba9ef",
   "metadata": {},
   "outputs": [
    {
     "data": {
      "text/plain": [
       "<Figure size 864x720 with 0 Axes>"
      ]
     },
     "metadata": {},
     "output_type": "display_data"
    },
    {
     "data": {
      "image/png": "[encoded data removed]",
      "text/plain": [
       "<Figure size 432x432 with 3 Axes>"
      ]
     },
     "metadata": {
      "needs_background": "light"
     },
     "output_type": "display_data"
    }
   ],
   "source": [
    "plt.figure(figsize=[12,10])\n",
    "\n",
    "sns.jointplot(x='mean_review_score', y='review_count', data=top_beauty_products_review_count_score)\n",
    "plt.xlabel('Number of Reviews')\n",
    "plt.ylabel('Mean Review Score')\n",
    "plt.title('Distribution of Mean Review Score vs. Review Count')\n",
    "\n",
    "plt.tight_layout()\n",
    "plt.show()"
   ]
  },
  {
   "cell_type": "code",
   "execution_count": 17,
   "id": "b5b3d654-7049-4cca-8e36-198a6cd6faa0",
   "metadata": {},
   "outputs": [
    {
     "data": {
      "image/png": "[encoded data removed]",
      "text/plain": [
       "<Figure size 864x720 with 1 Axes>"
      ]
     },
     "metadata": {
      "needs_background": "light"
     },
     "output_type": "display_data"
    }
   ],
   "source": [
    "plt.figure(figsize=[12,10])\n",
    "\n",
    "sns.barplot(x=top_beauty_products_review_count_score.index[:30], y='review_count', data=top_beauty_products_review_count_score[:30])\n",
    "plt.xticks(rotation=90)\n",
    "plt.xlabel('Product IDs')\n",
    "plt.ylabel('Number of Reviews')\n",
    "plt.title('Top 30 Products by Number of Reviews')\n",
    "\n",
    "plt.tight_layout()\n",
    "plt.show()"
   ]
  },
  {
   "cell_type": "code",
   "execution_count": 18,
   "id": "9edd3a61-3434-4fc4-ba5e-0696d4c4152d",
   "metadata": {},
   "outputs": [
    {
     "name": "stdout",
     "output_type": "stream",
     "text": [
      "With Popularity Based Recommendation System, the top 30 products to recommend are:\n",
      "Item 1: B000FOI48G - ['Waterpik Ultra Water Flosser'].\n",
      "Item 2: B000GLRREU - ['Waterpik Ultra Water Flosser'].\n",
      "Item 3: 1620213982 - [].\n",
      "Item 4: B001QY8QXM - ['Astra Platinum Double Edge Safety Razor Blades ,100 Blades (20 x 5)'].\n",
      "Item 5: B01DKQAXC0 - ['Bali Secrets Natural Deodorant - Organic &amp; Vegan - For Women &amp; Men - All Day Fresh - Strong &amp; Reliable Protection - 2.5 fl.oz/75ml [Scent: Sandalwood]'].\n",
      "Item 6: B00W259T7G - ['Pre de Provence Artisanal French Soap Bar Enriched with Shea Butter, Quad-Milled For A Smooth &amp; Rich Lather (150 grams) - Raspberry'].\n",
      "Item 7: B006IB5T4W - ['Aquaphor Healing Ointment,Advanced Therapy Skin Protectant 14 Ounce ( Pack May Vary )'].\n",
      "Item 8: B00005JS5C - ['Panasonic Bikini Shaper and Trimmer for Women ES246AC; Compact; Portable Design with Adjustable Trim Settings; Battery Operated'\n",
      " 'Panasonic Bikini Shaper and Trimmer for Women ES246AC; Compact; Portable Design with Adjustable Trim Settings; Battery Operated'].\n",
      "Item 9: B0012Y0ZG2 - ['Bath &amp; Body Works Ile De Tahiti Moana Coconut Vanille Moana Body Wash with Tamanoi 8.5 oz'].\n",
      "Item 10: B000WYJTZG - ['Helen of Troy 1579 Tangle Free Hot Air Brush, White, 3/4 Inch Barrel'].\n",
      "Item 11: B00VF344X0 - ['Italia Deluxe Ultra Fine Lip Liner set (Pack Of 12)'].\n",
      "Item 12: B0067F28ZW - ['Eyelash Growth Serum - 100% Natural Eyelash Eyebrow Enhancer Lash Growth Serum give you Longer and Thicker Eyelash, Fuller and Healthier Eyebrow - 3ml - No more False Eyelashes &amp; Eyebrow Tattooing'].\n",
      "Item 13: B00BMVV3MK - ['Style Edit Root Concealer 2 oz, Medium Brown'].\n",
      "Item 14: B000050FDY - ['Braun Clean &amp; Renew Refill Cartridges CCR - 2 Count (Packaging May Vary)'\n",
      " 'Braun Clean &amp; Renew Refill Cartridges CCR - 2 Count (Packaging May Vary)'].\n",
      "Item 15: B000FED5DU - ['Philips Norelco G370 All-in-1 Grooming System'].\n",
      "Item 16: B001AJ6YS2 - [\"Philips Norelco 7310 Men's Shaving System\"].\n",
      "Item 17: B008U1Q4DI - ['FOONEE Rhinestones Nail Art Gems Mixed Colours Shapes in Case (2mm,3000pcs)'].\n",
      "Item 18: B0010ZBORW - ['Urban Spa Moisturizing Booties to Keep your Feet Smooth, Hydrated and Moisturized'].\n",
      "Item 19: B000EG8HLE - ['Philips Norelco BG2020 BodyGroom'].\n",
      "Item 20: B0013NB7DW - ['Williams Lectric Shave, 7 Ounce'].\n",
      "Item 21: B00G5L867C - ['Philips Sonicare Sonic Electric Rechargeable Toothbrush for Kids, HX6311/07'].\n",
      "Item 22: B00D3M0CRS - ['Poppy Austin Pure Argan Oil for Hair &amp; Skin - Vegan, Cruelty-Free &amp; Organic Finest Grade, 2 oz'].\n",
      "Item 23: B000VV1YOY - ['essie nail polish, cuticle care, primers and finishers'].\n",
      "Item 24: B000URXP6E - ['Bonne Bell Smackers Bath and Body Starburst Collection'].\n",
      "Item 25: B00JVU3K9I - ['Catrice Stylist Eyebrow pencil With Brush Color 020 Date With Ash-ton 0.057 oz'].\n",
      "Item 26: B00NT0AR7E - ['OZNaturals Anti Aging Retinol Serum -The Most Effective Anti Wrinkle Serum Contains Professional Strength Retinol+ Astaxanthin+ Vitamin E - Get The Dramatic Youthful Results You&rsquo;ve Been Looking For'].\n",
      "Item 27: B000H6A02A - [\"Remington MS2-390 Microscreen Rechargeable/Corded Men's Shaver\"].\n",
      "Item 28: B000BJ1CGQ - ['GiGi Mini Pro Hair Removal Waxing Kit'].\n",
      "Item 29: B00011QUDE - ['Helen of Troy 1514 Brush Iron, White, 1 1/2 Inches Barrel'\n",
      " 'Helen of Troy 1514 Brush Iron, White, 1 1/2 Inches Barrel'].\n",
      "Item 30: B00120VWTK - ['Avalon Organics Vitamin C Renewal Creme, 2 oz'].\n"
     ]
    }
   ],
   "source": [
    "print(f\"With Popularity Based Recommendation System, the top {len(top_beauty_products_review_count_score.index[:30])} products to recommend are:\")\n",
    "for index, asin in enumerate(list(top_beauty_products_review_count_score.index[:30])):\n",
    "    print(f\"Item {index+1}: {asin} - {all_beauty_meta_data[all_beauty_meta_data['asin'] == asin]['title'].values}.\")"
   ]
  },
  {
   "cell_type": "markdown",
   "id": "2cfdfaef-a859-42aa-ba71-65e7d97d4a4d",
   "metadata": {},
   "source": [
    "And here we are, these are the top 30 products that can be utilized in our Popularity Based Recommendation System."
   ]
  },
  {
   "cell_type": "markdown",
   "id": "be338614-f66e-40f4-bb4e-87712bef7352",
   "metadata": {},
   "source": [
    "## __3. Recommendation System Model: Collaborative Filtering (Memory Based - Item Based)__"
   ]
  },
  {
   "cell_type": "markdown",
   "id": "3bb5c94e-f441-4869-b21a-84a8a55c9fff",
   "metadata": {},
   "source": [
    "Collaborative filtering mimics user-to-user recommendations. So it recommends products based on users who have similar tastes (derived from historical item ratings of like-minded people to predict how someone would rate an item).\n",
    "\n",
    "__By filling in entries of a user-item association matrix.__\n",
    "\n",
    "Collaborative filtering has two sub-categories: memory-based or model-based approaches."
   ]
  },
  {
   "cell_type": "code",
   "execution_count": 19,
   "id": "7ae70b9e-d277-4f28-8ce3-cce3d5bb65f2",
   "metadata": {},
   "outputs": [
    {
     "ename": "ModuleNotFoundError",
     "evalue": "No module named 'surprise'",
     "output_type": "error",
     "traceback": [
      "\u001b[1;31m---------------------------------------------------------------------------\u001b[0m",
      "\u001b[1;31mModuleNotFoundError\u001b[0m                       Traceback (most recent call last)",
      "\u001b[1;32m<ipython-input-19-a609a80369cf>\u001b[0m in \u001b[0;36m<module>\u001b[1;34m\u001b[0m\n\u001b[0;32m      2\u001b[0m \u001b[1;33m\u001b[0m\u001b[0m\n\u001b[0;32m      3\u001b[0m \u001b[1;31m# !pip install surprise # https://surprise.readthedocs.io/en/stable/\u001b[0m\u001b[1;33m\u001b[0m\u001b[1;33m\u001b[0m\u001b[1;33m\u001b[0m\u001b[0m\n\u001b[1;32m----> 4\u001b[1;33m \u001b[1;32mfrom\u001b[0m \u001b[0msurprise\u001b[0m \u001b[1;32mimport\u001b[0m \u001b[0mKNNWithMeans\u001b[0m\u001b[1;33m\u001b[0m\u001b[1;33m\u001b[0m\u001b[0m\n\u001b[0m\u001b[0;32m      5\u001b[0m \u001b[1;32mfrom\u001b[0m \u001b[0msurprise\u001b[0m \u001b[1;32mimport\u001b[0m \u001b[0mDataset\u001b[0m\u001b[1;33m\u001b[0m\u001b[1;33m\u001b[0m\u001b[0m\n\u001b[0;32m      6\u001b[0m \u001b[1;32mfrom\u001b[0m \u001b[0msurprise\u001b[0m \u001b[1;32mimport\u001b[0m \u001b[0maccuracy\u001b[0m\u001b[1;33m\u001b[0m\u001b[1;33m\u001b[0m\u001b[0m\n",
      "\u001b[1;31mModuleNotFoundError\u001b[0m: No module named 'surprise'"
     ]
    }
   ],
   "source": [
    "# Import libraries\n",
    "\n",
    "# !pip install surprise # https://surprise.readthedocs.io/en/stable/\n",
    "from surprise import KNNWithMeans\n",
    "from surprise import Dataset\n",
    "from surprise import accuracy\n",
    "from surprise import Reader\n",
    "from surprise.model_selection import train_test_split"
   ]
  },
  {
   "cell_type": "code",
   "execution_count": null,
   "id": "34b3bb2a-9daf-480e-937b-679591270579",
   "metadata": {
    "tags": []
   },
   "outputs": [],
   "source": [
    "# Instantiate Reader and pass in top beauty products with at least 50 reviews\n",
    "\n",
    "reader = Reader(rating_scale=(1,5)) # Reader class used to parse file containing ratings\n",
    "\n",
    "# Now, we load a dataset from a pandas dataframe\n",
    "# It must have three columns, corresponding to the user (raw) ids, the item (raw) ids, and the ratings, in this order\n",
    "recommender_cf_data = Dataset.load_from_df(top_beauty_products[['reviewerID','asin','overall']], reader) "
   ]
  },
  {
   "cell_type": "code",
   "execution_count": null,
   "id": "823ea0ae-6dfa-4cca-8042-f71e4e9f08d1",
   "metadata": {},
   "outputs": [],
   "source": [
    "# Quick look at the dataframe we are passing to the Dataset.load_from_df()\n",
    "\n",
    "top_beauty_products[['reviewerID','asin','overall']]"
   ]
  },
  {
   "cell_type": "code",
   "execution_count": null,
   "id": "526bfb00-8e7e-4ba1-85c9-59bf93e71269",
   "metadata": {},
   "outputs": [],
   "source": [
    "# Split dataset\n",
    "\n",
    "train_set, test_set = train_test_split(data=recommender_cf_data, test_size=0.3, random_state=100)"
   ]
  },
  {
   "cell_type": "markdown",
   "id": "ab2c30c0-5814-4291-8e36-dfde906fff25",
   "metadata": {},
   "source": [
    "Quick explanation of the recommendation system algorithm used below - KNNWithMeans:\n",
    "\n",
    "- Takes into account mean ratings of each user.\n",
    "- sim_options 'name': The similarity measure we intend to use (e.g. Cosine Similarity, Shrunk Pearson Correlation Coefficient).\n",
    "- https://surprise.readthedocs.io/en/stable/similarities.html#module-surprise.similarities\n",
    "- sim_options 'user_based': Whether similarities will be computed between users or between items. This has a huge impact on the performance of a prediction algorithm. __True = Between users; False = Between items.__\n",
    "- https://surprise.readthedocs.io/en/stable/prediction_algorithms.html#similarity-measures-configuration\n",
    "- In our case, we use the __item-item approach__ simply because user-user collaborative filtering required huge computational power. So this is more efficient."
   ]
  },
  {
   "cell_type": "code",
   "execution_count": null,
   "id": "568f8d5e-6de6-4235-8379-13e7cd0dc5bf",
   "metadata": {},
   "outputs": [],
   "source": [
    "# Item-item collaborative filtering\n",
    "\n",
    "knn_means_model = KNNWithMeans(k=5, sim_options={'name': 'pearson_baseline', 'user_based': False}) # Instantiate the model\n",
    "knn_means_model.fit(train_set) # Fit model to training set"
   ]
  },
  {
   "cell_type": "code",
   "execution_count": null,
   "id": "95f86851-850a-4b17-869d-93bb37591584",
   "metadata": {},
   "outputs": [],
   "source": [
    "# Predict with the model against test set\n",
    "\n",
    "knn_means_model_preds = knn_means_model.test(test_set)"
   ]
  },
  {
   "cell_type": "code",
   "execution_count": null,
   "id": "8a59e36d-6b75-4544-a8cd-b655cfde348a",
   "metadata": {
    "tags": []
   },
   "outputs": [],
   "source": [
    "knn_means_model_preds[:5]"
   ]
  },
  {
   "cell_type": "markdown",
   "id": "c517c8ac-19c9-498a-b9bd-0ec8d3f98f6c",
   "metadata": {},
   "source": [
    "RMSE - Root Mean Square Error: The standard deviation of the residuals (prediction errors). Residuals are a measure of how far from the regression line data points are. RMSE is a measure of how spread out these residuals are. In other words, it tells you how concentrated the data is around the line of best fit.\n",
    "\n",
    "How to interpret RMSE?\n",
    "- Whether RMSE is \"small\" or \"big\" depends on the choice of units and on the application we are building for.\n",
    "- In our case, a RMSE of 1.25 means there's a standard deviation of 1.25 in review ratings.\n",
    "- Whether it's good or bad requires our domain knowledge to gauge - from our data set, based on the distribution of review ratings for products with at least 50 reviews, it has a standard deviation of 1.31."
   ]
  },
  {
   "cell_type": "code",
   "execution_count": null,
   "id": "01e17477-bd43-45a0-9f81-1199d21bcc47",
   "metadata": {},
   "outputs": [],
   "source": [
    "# If we take a look at the distribution of review ratings for products with at least 50 reviews, it has a standard deviation of 1.31.\n",
    "\n",
    "top_beauty_products['overall'].describe()"
   ]
  },
  {
   "cell_type": "code",
   "execution_count": null,
   "id": "c52a9c4c-44a4-43c2-9cab-f49ca10954dd",
   "metadata": {},
   "outputs": [],
   "source": [
    "# Accuracy score with RMSE\n",
    "\n",
    "print(f\"Item-Item Collaborative Filtering Model Accuracy (RMSE) on Test Set: {accuracy.rmse(knn_means_model_preds, verbose=True)}\")"
   ]
  },
  {
   "cell_type": "markdown",
   "id": "31e1ac12-ea60-44e5-be29-5ddfd668809d",
   "metadata": {},
   "source": [
    "When we predict with the model, it will tell us for the \"uid\" (user id), what is the \"est\" (estimated rating) they will give to the \"iid\" (product id).\n",
    "\n",
    "- https://surprise.readthedocs.io/en/stable/algobase.html#surprise.prediction_algorithms.algo_base.AlgoBase.predict"
   ]
  },
  {
   "cell_type": "code",
   "execution_count": null,
   "id": "7bdf67a2-12da-4568-ab25-cb09878e0278",
   "metadata": {},
   "outputs": [],
   "source": [
    "# Prediction example\n",
    "\n",
    "knn_means_model.predict(uid='A2GJX2KCUSR0EI', iid='B000GLRREU')"
   ]
  },
  {
   "cell_type": "code",
   "execution_count": null,
   "id": "5b276523-d6f1-4062-a834-ee90c6d6113d",
   "metadata": {},
   "outputs": [],
   "source": [
    "print(f\"For Memory Based, Item Based Collaborative Filtering: The user {knn_means_model.predict(uid='A2GJX2KCUSR0EI', iid='B000GLRREU').uid} will give a rating of {knn_means_model.predict(uid='A2GJX2KCUSR0EI', iid='B000GLRREU').est} for Product ID {knn_means_model.predict(uid='A2GJX2KCUSR0EI', iid='B000GLRREU').iid}.\")"
   ]
  },
  {
   "cell_type": "markdown",
   "id": "16655d29-6d6b-4cf7-8e69-3da6c7f82d89",
   "metadata": {},
   "source": [
    "## __4. Recommendation System Model: Collaborative Filtering (Model Based)__"
   ]
  },
  {
   "cell_type": "markdown",
   "id": "0d92b2bd-36a5-4412-8f93-5bfd31bec651",
   "metadata": {},
   "source": [
    "The model based approach to collaboratie filtering for our recommendation system relies on existing user-item interactions to train the model to predict what items a user might like the most.\n",
    "\n",
    "__By training models to make predictions.__\n",
    "\n",
    "Compared to memory based approaches, this has an added advantage of being able to recommend a wider variety of items to a wider group of users."
   ]
  },
  {
   "cell_type": "code",
   "execution_count": null,
   "id": "e2d9861e-faaf-49d7-9a9d-5f7ff8fecfef",
   "metadata": {},
   "outputs": [],
   "source": [
    "# Create a sparse matrix documenting each user's review for every top beauty products with at least 50 reviews\n",
    "\n",
    "user_product_ratings_matrix = top_beauty_products.pivot_table(values='overall', index='reviewerID', columns='asin', fill_value=0)\n",
    "user_product_ratings_matrix.head(3)"
   ]
  },
  {
   "cell_type": "code",
   "execution_count": null,
   "id": "2f4229af-07a8-4b97-865e-76249105c689",
   "metadata": {},
   "outputs": [],
   "source": [
    "# Transpose the matrix\n",
    "\n",
    "user_product_ratings_matrix_transposed = user_product_ratings_matrix.T\n",
    "user_product_ratings_matrix_transposed.head(3)"
   ]
  },
  {
   "cell_type": "code",
   "execution_count": null,
   "id": "c14d7943-2de9-4f45-91c0-ee0f8ddcca39",
   "metadata": {},
   "outputs": [],
   "source": [
    "# Import library\n",
    "\n",
    "from sklearn.decomposition import TruncatedSVD"
   ]
  },
  {
   "cell_type": "code",
   "execution_count": null,
   "id": "d786f604-ed70-48b0-8b07-04e0c3467872",
   "metadata": {},
   "outputs": [],
   "source": [
    "# Decompose the matrix\n",
    "\n",
    "svd_model = TruncatedSVD(n_components=200)\n",
    "decomposed_matrix = svd_model.fit_transform(user_product_ratings_matrix_transposed)\n",
    "decomposed_matrix.shape"
   ]
  },
  {
   "cell_type": "code",
   "execution_count": null,
   "id": "746f5861-04f8-45ca-a026-98d5a9ca8d55",
   "metadata": {},
   "outputs": [],
   "source": [
    "svd_model.explained_variance_ratio_.sum()"
   ]
  },
  {
   "cell_type": "markdown",
   "id": "eca02608-0ef8-4eea-aefd-3ce1db29e2cc",
   "metadata": {},
   "source": [
    "In this section, we will take an \"asin\" (product id) and identify what other products can be recommended if a user bought this product. (E.g. B00120VWTK)"
   ]
  },
  {
   "cell_type": "code",
   "execution_count": null,
   "id": "5817b412-93fa-489f-9516-d9dd2b6f7fa5",
   "metadata": {},
   "outputs": [],
   "source": [
    "# Correlation matrix - For each product against each product (these are top beauty products with at least 50 reviews)\n",
    "\n",
    "correlation_matrix = np.corrcoef(decomposed_matrix)\n",
    "correlation_matrix.shape"
   ]
  },
  {
   "cell_type": "code",
   "execution_count": null,
   "id": "4f67890d-234f-4509-98c8-e3daf7ed9b49",
   "metadata": {},
   "outputs": [],
   "source": [
    "# Find the index of the product we want to investigate\n",
    "\n",
    "product_id = 'B00120VWTK'\n",
    "\n",
    "top_product_ids = list(user_product_ratings_matrix_transposed.index)\n",
    "product_id_index = top_product_ids.index(product_id)\n",
    "product_id_index"
   ]
  },
  {
   "cell_type": "code",
   "execution_count": null,
   "id": "30568c11-366d-4f94-94d7-6e88873adfe5",
   "metadata": {},
   "outputs": [],
   "source": [
    "# View the correlation of the investigated product against all other products\n",
    "\n",
    "correlation_product_id = correlation_matrix[product_id_index]\n",
    "correlation_product_id.shape"
   ]
  },
  {
   "cell_type": "markdown",
   "id": "19a8f613-aaa8-4af1-8ba5-99304f0addb7",
   "metadata": {},
   "source": [
    "Now, based on what the product is strongly correlated against, we can recommend the other products.\n",
    "\n",
    "- I.e. These are the other products to recommend if a user purchased this product."
   ]
  },
  {
   "cell_type": "code",
   "execution_count": null,
   "id": "8ecb1d24-b5ab-4469-90aa-9a8227b98b9a",
   "metadata": {},
   "outputs": [],
   "source": [
    "recommendations = list(user_product_ratings_matrix_transposed.index[correlation_product_id > 0.70])\n",
    "recommendations.remove(product_id) # Remove the product already bought by the user\n",
    "recommendations # Returns the list of recommended products"
   ]
  },
  {
   "cell_type": "code",
   "execution_count": null,
   "id": "5ced6864-da3d-4708-b66e-bb020263f17b",
   "metadata": {},
   "outputs": [],
   "source": [
    "# Write a function to print out the product the user bought as well as what products can be recommended based\n",
    "\n",
    "def recommdation_details(product_id, recommendations):\n",
    "    print(f\"Since User bought Product ID: {product_id}, {all_beauty_meta_data[all_beauty_meta_data['asin'] == product_id]['title'].values}.\\n\")\n",
    "    print('For Model Based Collaborative Filtering, We can recommend these Products:\\n')\n",
    "    for asin in recommendations:\n",
    "        print(f\"Recommended Product ID: {asin}, {all_beauty_meta_data[all_beauty_meta_data['asin'] == asin]['title'].values}. It has a correlation score of {correlation_product_id[user_product_ratings_matrix_transposed.index.get_loc(asin)]:.3f}.\")"
   ]
  },
  {
   "cell_type": "code",
   "execution_count": null,
   "id": "42a5bd34-64c4-41d1-98f1-4adebc4dc780",
   "metadata": {},
   "outputs": [],
   "source": [
    "# Retrieve the recommendations in a user friendly and readable format\n",
    "\n",
    "recommdation_details(product_id, recommendations)"
   ]
  },
  {
   "cell_type": "markdown",
   "id": "2f4b37e7-b83c-42ae-8b9a-69e9ce8bfbe5",
   "metadata": {
    "tags": []
   },
   "source": [
    "### The End.\n",
    "### Thank You!"
   ]
  }
 ],
 "metadata": {
  "kernelspec": {
   "display_name": "Python 3",
   "language": "python",
   "name": "python3"
  },
  "language_info": {
   "codemirror_mode": {
    "name": "ipython",
    "version": 3
   },
   "file_extension": ".py",
   "mimetype": "text/x-python",
   "name": "python",
   "nbconvert_exporter": "python",
   "pygments_lexer": "ipython3",
   "version": "3.8.8"
  }
 },
 "nbformat": 4,
 "nbformat_minor": 5
}
